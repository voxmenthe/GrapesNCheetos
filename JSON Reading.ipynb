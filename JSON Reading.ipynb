{
 "cells": [
  {
   "cell_type": "markdown",
   "metadata": {},
   "source": [
    "pandas.read_json(path_or_buf=None, orient=None, typ='frame', dtype=True, convert_axes=True, convert_dates=True, keep_default_dates=True, numpy=False, precise_float=False, date_unit=None)"
   ]
  },
  {
   "cell_type": "code",
   "execution_count": 1,
   "metadata": {
    "collapsed": false
   },
   "outputs": [
    {
     "data": {
      "text/plain": [
       "Index(['careerOpportunitiesRating', 'ceo', 'compensationAndBenefitsRating',\n",
       "       'cultureAndValuesRating', 'exactMatch', 'featuredReview', 'id',\n",
       "       'industry', 'industryId', 'industryName', 'isEEP', 'name',\n",
       "       'numberOfRatings', 'overallRating', 'ratingDescription',\n",
       "       'recommendToFriendRating', 'sectorId', 'sectorName',\n",
       "       'seniorLeadershipRating', 'squareLogo', 'website',\n",
       "       'workLifeBalanceRating'],\n",
       "      dtype='object')"
      ]
     },
     "execution_count": 1,
     "metadata": {},
     "output_type": "execute_result"
    }
   ],
   "source": [
    "import pandas as pd\n",
    "page1 = pd.read_json('/Users/jeffcoggshall/Dropbox/McNultyTeam1/data/employerdata_1.json')\n",
    "df1 = pd.DataFrame(page1[\"response\"].ix[\"employers\"])\n",
    "df1.columns"
   ]
  },
  {
   "cell_type": "code",
   "execution_count": 2,
   "metadata": {
    "collapsed": false
   },
   "outputs": [
    {
     "data": {
      "text/plain": [
       "0    3.0\n",
       "1    3.4\n",
       "2    3.5\n",
       "3    3.2\n",
       "4    4.0\n",
       "5    3.2\n",
       "6    3.0\n",
       "7    3.7\n",
       "8    3.6\n",
       "9    3.1\n",
       "Name: cultureAndValuesRating, dtype: object"
      ]
     },
     "execution_count": 2,
     "metadata": {},
     "output_type": "execute_result"
    }
   ],
   "source": [
    "df1[\"cultureAndValuesRating\"]"
   ]
  },
  {
   "cell_type": "code",
   "execution_count": 3,
   "metadata": {
    "collapsed": false
   },
   "outputs": [
    {
     "data": {
      "text/plain": [
       "Index(['careerOpportunitiesRating', 'ceo', 'compensationAndBenefitsRating',\n",
       "       'cultureAndValuesRating', 'exactMatch', 'featuredReview', 'id',\n",
       "       'industry', 'industryId', 'industryName', 'isEEP', 'name',\n",
       "       'numberOfRatings', 'overallRating', 'ratingDescription',\n",
       "       'recommendToFriendRating', 'sectorId', 'sectorName',\n",
       "       'seniorLeadershipRating', 'squareLogo', 'website',\n",
       "       'workLifeBalanceRating'],\n",
       "      dtype='object')"
      ]
     },
     "execution_count": 3,
     "metadata": {},
     "output_type": "execute_result"
    }
   ],
   "source": [
    "page2 = pd.read_json('/Users/jeffcoggshall/Dropbox/McNultyTeam1/data/employerdata_2.json')\n",
    "df2 = pd.DataFrame(page2[\"response\"].ix[\"employers\"])\n",
    "df2.columns"
   ]
  },
  {
   "cell_type": "code",
   "execution_count": 7,
   "metadata": {
    "collapsed": false
   },
   "outputs": [
    {
     "data": {
      "text/plain": [
       "0             Computer Hardware & Software\n",
       "1           Home Centers & Hardware Stores\n",
       "2    Fast-Food & Quick-Service Restaurants\n",
       "3    Fast-Food & Quick-Service Restaurants\n",
       "4             Computer Hardware & Software\n",
       "5         Health Care Services & Hospitals\n",
       "6                     Drug & Health Stores\n",
       "7    Investment Banking & Asset Management\n",
       "8        General Merchandise & Superstores\n",
       "9                         Federal Agencies\n",
       "Name: industry, dtype: object"
      ]
     },
     "execution_count": 7,
     "metadata": {},
     "output_type": "execute_result"
    }
   ],
   "source": [
    "df2[\"industry\"]"
   ]
  },
  {
   "cell_type": "code",
   "execution_count": 11,
   "metadata": {
    "collapsed": false
   },
   "outputs": [
    {
     "data": {
      "text/plain": [
       "0    0.8\n",
       "1    0.7\n",
       "2    0.8\n",
       "3    0.5\n",
       "4    0.5\n",
       "5    0.4\n",
       "6    0.5\n",
       "7    0.7\n",
       "8    0.6\n",
       "9    0.8\n",
       "Name: recommendToFriendRating, dtype: object"
      ]
     },
     "execution_count": 11,
     "metadata": {},
     "output_type": "execute_result"
    }
   ],
   "source": [
    "df2[\"recommendToFriendRating\"]"
   ]
  },
  {
   "cell_type": "code",
   "execution_count": 43,
   "metadata": {
    "collapsed": false
   },
   "outputs": [],
   "source": [
    "ceo_df = pd.DataFrame(list(df2[\"ceo\"]))"
   ]
  },
  {
   "cell_type": "code",
   "execution_count": 44,
   "metadata": {
    "collapsed": false
   },
   "outputs": [
    {
     "data": {
      "text/html": [
       "<div>\n",
       "<table border=\"1\" class=\"dataframe\">\n",
       "  <thead>\n",
       "    <tr style=\"text-align: right;\">\n",
       "      <th></th>\n",
       "      <th>image</th>\n",
       "      <th>name</th>\n",
       "      <th>numberOfRatings</th>\n",
       "      <th>pctApprove</th>\n",
       "      <th>pctDisapprove</th>\n",
       "      <th>title</th>\n",
       "    </tr>\n",
       "  </thead>\n",
       "  <tbody>\n",
       "    <tr>\n",
       "      <th>0</th>\n",
       "      <td>{'src': 'https://media.glassdoor.com/people/sq...</td>\n",
       "      <td>Satya Nadella</td>\n",
       "      <td>4139</td>\n",
       "      <td>93</td>\n",
       "      <td>7</td>\n",
       "      <td>CEO</td>\n",
       "    </tr>\n",
       "    <tr>\n",
       "      <th>1</th>\n",
       "      <td>{'src': 'https://media.glassdoor.com/people/sq...</td>\n",
       "      <td>Robert A. Niblock</td>\n",
       "      <td>3510</td>\n",
       "      <td>72</td>\n",
       "      <td>28</td>\n",
       "      <td>Chairman and CEO</td>\n",
       "    </tr>\n",
       "    <tr>\n",
       "      <th>2</th>\n",
       "      <td>{'src': 'https://media.glassdoor.com/people/sq...</td>\n",
       "      <td>Howard D. Schultz</td>\n",
       "      <td>6346</td>\n",
       "      <td>89</td>\n",
       "      <td>11</td>\n",
       "      <td>Chairman, President, and CEO</td>\n",
       "    </tr>\n",
       "    <tr>\n",
       "      <th>3</th>\n",
       "      <td>{'src': 'https://media.glassdoor.com/people/sq...</td>\n",
       "      <td>Steve Easterbrook</td>\n",
       "      <td>1376</td>\n",
       "      <td>69</td>\n",
       "      <td>31</td>\n",
       "      <td>President and Chief Executive Officer</td>\n",
       "    </tr>\n",
       "    <tr>\n",
       "      <th>4</th>\n",
       "      <td>{'src': 'https://media.glassdoor.com/people/sq...</td>\n",
       "      <td>Meg Whitman</td>\n",
       "      <td>5660</td>\n",
       "      <td>70</td>\n",
       "      <td>30</td>\n",
       "      <td>CEO</td>\n",
       "    </tr>\n",
       "    <tr>\n",
       "      <th>5</th>\n",
       "      <td>{'src': 'https://media.glassdoor.com/people/sq...</td>\n",
       "      <td>Larry J. Merlo</td>\n",
       "      <td>2827</td>\n",
       "      <td>36</td>\n",
       "      <td>64</td>\n",
       "      <td>President and CEO</td>\n",
       "    </tr>\n",
       "    <tr>\n",
       "      <th>6</th>\n",
       "      <td>NaN</td>\n",
       "      <td>Stefano Pessina</td>\n",
       "      <td>1084</td>\n",
       "      <td>48</td>\n",
       "      <td>52</td>\n",
       "      <td>Executive Vice Chairman and Acting CEO</td>\n",
       "    </tr>\n",
       "    <tr>\n",
       "      <th>7</th>\n",
       "      <td>{'src': 'https://media.glassdoor.com/people/sq...</td>\n",
       "      <td>Jamie Dimon</td>\n",
       "      <td>3816</td>\n",
       "      <td>87</td>\n",
       "      <td>13</td>\n",
       "      <td>Chairman, President, and CEO</td>\n",
       "    </tr>\n",
       "    <tr>\n",
       "      <th>8</th>\n",
       "      <td>{'src': 'https://media.glassdoor.com/people/sq...</td>\n",
       "      <td>Jeff Bezos</td>\n",
       "      <td>5290</td>\n",
       "      <td>80</td>\n",
       "      <td>20</td>\n",
       "      <td>Chairman, President, and CEO</td>\n",
       "    </tr>\n",
       "    <tr>\n",
       "      <th>9</th>\n",
       "      <td>{'src': 'https://media.glassdoor.com/people/sq...</td>\n",
       "      <td>General Mark A. Welsh</td>\n",
       "      <td>3000</td>\n",
       "      <td>83</td>\n",
       "      <td>17</td>\n",
       "      <td>Chief of Staff</td>\n",
       "    </tr>\n",
       "  </tbody>\n",
       "</table>\n",
       "</div>"
      ],
      "text/plain": [
       "                                               image                   name  \\\n",
       "0  {'src': 'https://media.glassdoor.com/people/sq...          Satya Nadella   \n",
       "1  {'src': 'https://media.glassdoor.com/people/sq...      Robert A. Niblock   \n",
       "2  {'src': 'https://media.glassdoor.com/people/sq...      Howard D. Schultz   \n",
       "3  {'src': 'https://media.glassdoor.com/people/sq...      Steve Easterbrook   \n",
       "4  {'src': 'https://media.glassdoor.com/people/sq...            Meg Whitman   \n",
       "5  {'src': 'https://media.glassdoor.com/people/sq...         Larry J. Merlo   \n",
       "6                                                NaN        Stefano Pessina   \n",
       "7  {'src': 'https://media.glassdoor.com/people/sq...            Jamie Dimon   \n",
       "8  {'src': 'https://media.glassdoor.com/people/sq...             Jeff Bezos   \n",
       "9  {'src': 'https://media.glassdoor.com/people/sq...  General Mark A. Welsh   \n",
       "\n",
       "   numberOfRatings  pctApprove  pctDisapprove  \\\n",
       "0             4139          93              7   \n",
       "1             3510          72             28   \n",
       "2             6346          89             11   \n",
       "3             1376          69             31   \n",
       "4             5660          70             30   \n",
       "5             2827          36             64   \n",
       "6             1084          48             52   \n",
       "7             3816          87             13   \n",
       "8             5290          80             20   \n",
       "9             3000          83             17   \n",
       "\n",
       "                                    title  \n",
       "0                                     CEO  \n",
       "1                        Chairman and CEO  \n",
       "2            Chairman, President, and CEO  \n",
       "3   President and Chief Executive Officer  \n",
       "4                                     CEO  \n",
       "5                       President and CEO  \n",
       "6  Executive Vice Chairman and Acting CEO  \n",
       "7            Chairman, President, and CEO  \n",
       "8            Chairman, President, and CEO  \n",
       "9                          Chief of Staff  "
      ]
     },
     "execution_count": 44,
     "metadata": {},
     "output_type": "execute_result"
    }
   ],
   "source": [
    "ceo_df"
   ]
  },
  {
   "cell_type": "code",
   "execution_count": 14,
   "metadata": {
    "collapsed": false
   },
   "outputs": [],
   "source": [
    "df2_short = df2[[\"name\",\"cultureAndValuesRating\",\"numberOfRatings\",\"ceo\"]]"
   ]
  },
  {
   "cell_type": "code",
   "execution_count": 15,
   "metadata": {
    "collapsed": false
   },
   "outputs": [
    {
     "data": {
      "text/html": [
       "<div>\n",
       "<table border=\"1\" class=\"dataframe\">\n",
       "  <thead>\n",
       "    <tr style=\"text-align: right;\">\n",
       "      <th></th>\n",
       "      <th>name</th>\n",
       "      <th>cultureAndValuesRating</th>\n",
       "      <th>numberOfRatings</th>\n",
       "      <th>ceo</th>\n",
       "    </tr>\n",
       "  </thead>\n",
       "  <tbody>\n",
       "    <tr>\n",
       "      <th>0</th>\n",
       "      <td>Microsoft</td>\n",
       "      <td>3.7</td>\n",
       "      <td>14074</td>\n",
       "      <td>{'name': 'Satya Nadella', 'pctApprove': 93, 'n...</td>\n",
       "    </tr>\n",
       "    <tr>\n",
       "      <th>1</th>\n",
       "      <td>Lowe's</td>\n",
       "      <td>3.4</td>\n",
       "      <td>9768</td>\n",
       "      <td>{'name': 'Robert A. Niblock', 'pctApprove': 72...</td>\n",
       "    </tr>\n",
       "    <tr>\n",
       "      <th>2</th>\n",
       "      <td>Starbucks</td>\n",
       "      <td>4.0</td>\n",
       "      <td>10879</td>\n",
       "      <td>{'name': 'Howard D. Schultz', 'pctApprove': 89...</td>\n",
       "    </tr>\n",
       "    <tr>\n",
       "      <th>3</th>\n",
       "      <td>McDonald's</td>\n",
       "      <td>2.9</td>\n",
       "      <td>10612</td>\n",
       "      <td>{'name': 'Steve Easterbrook', 'pctApprove': 69...</td>\n",
       "    </tr>\n",
       "    <tr>\n",
       "      <th>4</th>\n",
       "      <td>Hewlett-Packard</td>\n",
       "      <td>3.2</td>\n",
       "      <td>15025</td>\n",
       "      <td>{'name': 'Meg Whitman', 'pctApprove': 70, 'num...</td>\n",
       "    </tr>\n",
       "    <tr>\n",
       "      <th>5</th>\n",
       "      <td>CVS Health</td>\n",
       "      <td>2.7</td>\n",
       "      <td>8076</td>\n",
       "      <td>{'name': 'Larry J. Merlo', 'pctApprove': 36, '...</td>\n",
       "    </tr>\n",
       "    <tr>\n",
       "      <th>6</th>\n",
       "      <td>Walgreens</td>\n",
       "      <td>3.0</td>\n",
       "      <td>8118</td>\n",
       "      <td>{'pctApprove': 48, 'name': 'Stefano Pessina', ...</td>\n",
       "    </tr>\n",
       "    <tr>\n",
       "      <th>7</th>\n",
       "      <td>J.P. Morgan</td>\n",
       "      <td>3.3</td>\n",
       "      <td>9426</td>\n",
       "      <td>{'name': 'Jamie Dimon', 'pctApprove': 87, 'num...</td>\n",
       "    </tr>\n",
       "    <tr>\n",
       "      <th>8</th>\n",
       "      <td>Amazon.com</td>\n",
       "      <td>3.2</td>\n",
       "      <td>9553</td>\n",
       "      <td>{'name': 'Jeff Bezos', 'pctApprove': 80, 'numb...</td>\n",
       "    </tr>\n",
       "    <tr>\n",
       "      <th>9</th>\n",
       "      <td>US Air Force</td>\n",
       "      <td>4.1</td>\n",
       "      <td>7883</td>\n",
       "      <td>{'name': 'General Mark A. Welsh', 'pctApprove'...</td>\n",
       "    </tr>\n",
       "  </tbody>\n",
       "</table>\n",
       "</div>"
      ],
      "text/plain": [
       "              name cultureAndValuesRating  numberOfRatings  \\\n",
       "0        Microsoft                    3.7            14074   \n",
       "1           Lowe's                    3.4             9768   \n",
       "2        Starbucks                    4.0            10879   \n",
       "3       McDonald's                    2.9            10612   \n",
       "4  Hewlett-Packard                    3.2            15025   \n",
       "5       CVS Health                    2.7             8076   \n",
       "6        Walgreens                    3.0             8118   \n",
       "7      J.P. Morgan                    3.3             9426   \n",
       "8       Amazon.com                    3.2             9553   \n",
       "9     US Air Force                    4.1             7883   \n",
       "\n",
       "                                                 ceo  \n",
       "0  {'name': 'Satya Nadella', 'pctApprove': 93, 'n...  \n",
       "1  {'name': 'Robert A. Niblock', 'pctApprove': 72...  \n",
       "2  {'name': 'Howard D. Schultz', 'pctApprove': 89...  \n",
       "3  {'name': 'Steve Easterbrook', 'pctApprove': 69...  \n",
       "4  {'name': 'Meg Whitman', 'pctApprove': 70, 'num...  \n",
       "5  {'name': 'Larry J. Merlo', 'pctApprove': 36, '...  \n",
       "6  {'pctApprove': 48, 'name': 'Stefano Pessina', ...  \n",
       "7  {'name': 'Jamie Dimon', 'pctApprove': 87, 'num...  \n",
       "8  {'name': 'Jeff Bezos', 'pctApprove': 80, 'numb...  \n",
       "9  {'name': 'General Mark A. Welsh', 'pctApprove'...  "
      ]
     },
     "execution_count": 15,
     "metadata": {},
     "output_type": "execute_result"
    }
   ],
   "source": [
    "df2_short"
   ]
  },
  {
   "cell_type": "code",
   "execution_count": 45,
   "metadata": {
    "collapsed": true
   },
   "outputs": [],
   "source": [
    "shortceo = pd.concat([df2_short,ceo_df],axis=1)"
   ]
  },
  {
   "cell_type": "code",
   "execution_count": 46,
   "metadata": {
    "collapsed": false
   },
   "outputs": [
    {
     "data": {
      "text/html": [
       "<div>\n",
       "<table border=\"1\" class=\"dataframe\">\n",
       "  <thead>\n",
       "    <tr style=\"text-align: right;\">\n",
       "      <th></th>\n",
       "      <th>name</th>\n",
       "      <th>cultureAndValuesRating</th>\n",
       "      <th>numberOfRatings</th>\n",
       "      <th>ceo</th>\n",
       "      <th>image</th>\n",
       "      <th>name</th>\n",
       "      <th>numberOfRatings</th>\n",
       "      <th>pctApprove</th>\n",
       "      <th>pctDisapprove</th>\n",
       "      <th>title</th>\n",
       "    </tr>\n",
       "  </thead>\n",
       "  <tbody>\n",
       "    <tr>\n",
       "      <th>0</th>\n",
       "      <td>Microsoft</td>\n",
       "      <td>3.7</td>\n",
       "      <td>14074</td>\n",
       "      <td>{'name': 'Satya Nadella', 'pctApprove': 93, 'n...</td>\n",
       "      <td>{'src': 'https://media.glassdoor.com/people/sq...</td>\n",
       "      <td>Satya Nadella</td>\n",
       "      <td>4139</td>\n",
       "      <td>93</td>\n",
       "      <td>7</td>\n",
       "      <td>CEO</td>\n",
       "    </tr>\n",
       "    <tr>\n",
       "      <th>1</th>\n",
       "      <td>Lowe's</td>\n",
       "      <td>3.4</td>\n",
       "      <td>9768</td>\n",
       "      <td>{'name': 'Robert A. Niblock', 'pctApprove': 72...</td>\n",
       "      <td>{'src': 'https://media.glassdoor.com/people/sq...</td>\n",
       "      <td>Robert A. Niblock</td>\n",
       "      <td>3510</td>\n",
       "      <td>72</td>\n",
       "      <td>28</td>\n",
       "      <td>Chairman and CEO</td>\n",
       "    </tr>\n",
       "    <tr>\n",
       "      <th>2</th>\n",
       "      <td>Starbucks</td>\n",
       "      <td>4.0</td>\n",
       "      <td>10879</td>\n",
       "      <td>{'name': 'Howard D. Schultz', 'pctApprove': 89...</td>\n",
       "      <td>{'src': 'https://media.glassdoor.com/people/sq...</td>\n",
       "      <td>Howard D. Schultz</td>\n",
       "      <td>6346</td>\n",
       "      <td>89</td>\n",
       "      <td>11</td>\n",
       "      <td>Chairman, President, and CEO</td>\n",
       "    </tr>\n",
       "    <tr>\n",
       "      <th>3</th>\n",
       "      <td>McDonald's</td>\n",
       "      <td>2.9</td>\n",
       "      <td>10612</td>\n",
       "      <td>{'name': 'Steve Easterbrook', 'pctApprove': 69...</td>\n",
       "      <td>{'src': 'https://media.glassdoor.com/people/sq...</td>\n",
       "      <td>Steve Easterbrook</td>\n",
       "      <td>1376</td>\n",
       "      <td>69</td>\n",
       "      <td>31</td>\n",
       "      <td>President and Chief Executive Officer</td>\n",
       "    </tr>\n",
       "    <tr>\n",
       "      <th>4</th>\n",
       "      <td>Hewlett-Packard</td>\n",
       "      <td>3.2</td>\n",
       "      <td>15025</td>\n",
       "      <td>{'name': 'Meg Whitman', 'pctApprove': 70, 'num...</td>\n",
       "      <td>{'src': 'https://media.glassdoor.com/people/sq...</td>\n",
       "      <td>Meg Whitman</td>\n",
       "      <td>5660</td>\n",
       "      <td>70</td>\n",
       "      <td>30</td>\n",
       "      <td>CEO</td>\n",
       "    </tr>\n",
       "    <tr>\n",
       "      <th>5</th>\n",
       "      <td>CVS Health</td>\n",
       "      <td>2.7</td>\n",
       "      <td>8076</td>\n",
       "      <td>{'name': 'Larry J. Merlo', 'pctApprove': 36, '...</td>\n",
       "      <td>{'src': 'https://media.glassdoor.com/people/sq...</td>\n",
       "      <td>Larry J. Merlo</td>\n",
       "      <td>2827</td>\n",
       "      <td>36</td>\n",
       "      <td>64</td>\n",
       "      <td>President and CEO</td>\n",
       "    </tr>\n",
       "    <tr>\n",
       "      <th>6</th>\n",
       "      <td>Walgreens</td>\n",
       "      <td>3.0</td>\n",
       "      <td>8118</td>\n",
       "      <td>{'pctApprove': 48, 'name': 'Stefano Pessina', ...</td>\n",
       "      <td>NaN</td>\n",
       "      <td>Stefano Pessina</td>\n",
       "      <td>1084</td>\n",
       "      <td>48</td>\n",
       "      <td>52</td>\n",
       "      <td>Executive Vice Chairman and Acting CEO</td>\n",
       "    </tr>\n",
       "    <tr>\n",
       "      <th>7</th>\n",
       "      <td>J.P. Morgan</td>\n",
       "      <td>3.3</td>\n",
       "      <td>9426</td>\n",
       "      <td>{'name': 'Jamie Dimon', 'pctApprove': 87, 'num...</td>\n",
       "      <td>{'src': 'https://media.glassdoor.com/people/sq...</td>\n",
       "      <td>Jamie Dimon</td>\n",
       "      <td>3816</td>\n",
       "      <td>87</td>\n",
       "      <td>13</td>\n",
       "      <td>Chairman, President, and CEO</td>\n",
       "    </tr>\n",
       "    <tr>\n",
       "      <th>8</th>\n",
       "      <td>Amazon.com</td>\n",
       "      <td>3.2</td>\n",
       "      <td>9553</td>\n",
       "      <td>{'name': 'Jeff Bezos', 'pctApprove': 80, 'numb...</td>\n",
       "      <td>{'src': 'https://media.glassdoor.com/people/sq...</td>\n",
       "      <td>Jeff Bezos</td>\n",
       "      <td>5290</td>\n",
       "      <td>80</td>\n",
       "      <td>20</td>\n",
       "      <td>Chairman, President, and CEO</td>\n",
       "    </tr>\n",
       "    <tr>\n",
       "      <th>9</th>\n",
       "      <td>US Air Force</td>\n",
       "      <td>4.1</td>\n",
       "      <td>7883</td>\n",
       "      <td>{'name': 'General Mark A. Welsh', 'pctApprove'...</td>\n",
       "      <td>{'src': 'https://media.glassdoor.com/people/sq...</td>\n",
       "      <td>General Mark A. Welsh</td>\n",
       "      <td>3000</td>\n",
       "      <td>83</td>\n",
       "      <td>17</td>\n",
       "      <td>Chief of Staff</td>\n",
       "    </tr>\n",
       "  </tbody>\n",
       "</table>\n",
       "</div>"
      ],
      "text/plain": [
       "              name cultureAndValuesRating  numberOfRatings  \\\n",
       "0        Microsoft                    3.7            14074   \n",
       "1           Lowe's                    3.4             9768   \n",
       "2        Starbucks                    4.0            10879   \n",
       "3       McDonald's                    2.9            10612   \n",
       "4  Hewlett-Packard                    3.2            15025   \n",
       "5       CVS Health                    2.7             8076   \n",
       "6        Walgreens                    3.0             8118   \n",
       "7      J.P. Morgan                    3.3             9426   \n",
       "8       Amazon.com                    3.2             9553   \n",
       "9     US Air Force                    4.1             7883   \n",
       "\n",
       "                                                 ceo  \\\n",
       "0  {'name': 'Satya Nadella', 'pctApprove': 93, 'n...   \n",
       "1  {'name': 'Robert A. Niblock', 'pctApprove': 72...   \n",
       "2  {'name': 'Howard D. Schultz', 'pctApprove': 89...   \n",
       "3  {'name': 'Steve Easterbrook', 'pctApprove': 69...   \n",
       "4  {'name': 'Meg Whitman', 'pctApprove': 70, 'num...   \n",
       "5  {'name': 'Larry J. Merlo', 'pctApprove': 36, '...   \n",
       "6  {'pctApprove': 48, 'name': 'Stefano Pessina', ...   \n",
       "7  {'name': 'Jamie Dimon', 'pctApprove': 87, 'num...   \n",
       "8  {'name': 'Jeff Bezos', 'pctApprove': 80, 'numb...   \n",
       "9  {'name': 'General Mark A. Welsh', 'pctApprove'...   \n",
       "\n",
       "                                               image                   name  \\\n",
       "0  {'src': 'https://media.glassdoor.com/people/sq...          Satya Nadella   \n",
       "1  {'src': 'https://media.glassdoor.com/people/sq...      Robert A. Niblock   \n",
       "2  {'src': 'https://media.glassdoor.com/people/sq...      Howard D. Schultz   \n",
       "3  {'src': 'https://media.glassdoor.com/people/sq...      Steve Easterbrook   \n",
       "4  {'src': 'https://media.glassdoor.com/people/sq...            Meg Whitman   \n",
       "5  {'src': 'https://media.glassdoor.com/people/sq...         Larry J. Merlo   \n",
       "6                                                NaN        Stefano Pessina   \n",
       "7  {'src': 'https://media.glassdoor.com/people/sq...            Jamie Dimon   \n",
       "8  {'src': 'https://media.glassdoor.com/people/sq...             Jeff Bezos   \n",
       "9  {'src': 'https://media.glassdoor.com/people/sq...  General Mark A. Welsh   \n",
       "\n",
       "   numberOfRatings  pctApprove  pctDisapprove  \\\n",
       "0             4139          93              7   \n",
       "1             3510          72             28   \n",
       "2             6346          89             11   \n",
       "3             1376          69             31   \n",
       "4             5660          70             30   \n",
       "5             2827          36             64   \n",
       "6             1084          48             52   \n",
       "7             3816          87             13   \n",
       "8             5290          80             20   \n",
       "9             3000          83             17   \n",
       "\n",
       "                                    title  \n",
       "0                                     CEO  \n",
       "1                        Chairman and CEO  \n",
       "2            Chairman, President, and CEO  \n",
       "3   President and Chief Executive Officer  \n",
       "4                                     CEO  \n",
       "5                       President and CEO  \n",
       "6  Executive Vice Chairman and Acting CEO  \n",
       "7            Chairman, President, and CEO  \n",
       "8            Chairman, President, and CEO  \n",
       "9                          Chief of Staff  "
      ]
     },
     "execution_count": 46,
     "metadata": {},
     "output_type": "execute_result"
    }
   ],
   "source": [
    "shortceo"
   ]
  },
  {
   "cell_type": "code",
   "execution_count": 8,
   "metadata": {
    "collapsed": false
   },
   "outputs": [
    {
     "name": "stdout",
     "output_type": "stream",
     "text": [
      "GlassdoorData.ipynb   Scraping_Indeed.ipynb\n",
      "JSON Reading.ipynb    first50.pkl\n",
      "/bin/sh: line 0: cd: Dropbox: No such file or directory\n"
     ]
    }
   ],
   "source": [
    "!ls\n",
    "!cd Dropbox"
   ]
  },
  {
   "cell_type": "code",
   "execution_count": null,
   "metadata": {
    "collapsed": true
   },
   "outputs": [],
   "source": []
  }
 ],
 "metadata": {
  "kernelspec": {
   "display_name": "Python 3",
   "language": "python",
   "name": "python3"
  },
  "language_info": {
   "codemirror_mode": {
    "name": "ipython",
    "version": 3
   },
   "file_extension": ".py",
   "mimetype": "text/x-python",
   "name": "python",
   "nbconvert_exporter": "python",
   "pygments_lexer": "ipython3",
   "version": "3.5.1"
  }
 },
 "nbformat": 4,
 "nbformat_minor": 0
}
